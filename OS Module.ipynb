{
 "cells": [
  {
   "cell_type": "markdown",
   "id": "22b7fe00",
   "metadata": {},
   "source": [
    "# Getting Current Working Directory"
   ]
  },
  {
   "cell_type": "code",
   "execution_count": 11,
   "id": "4af0ceff",
   "metadata": {},
   "outputs": [
    {
     "data": {
      "text/plain": [
       "'C:\\\\python\\\\pandas'"
      ]
     },
     "execution_count": 11,
     "metadata": {},
     "output_type": "execute_result"
    }
   ],
   "source": [
    "import os\n",
    "os.getcwd()"
   ]
  },
  {
   "cell_type": "markdown",
   "id": "cde4479e",
   "metadata": {},
   "source": [
    "# Creating a Directory\n",
    "If you don't specify the whole path in the mkdir() function, it will create the specified directory in the current working directory or drive."
   ]
  },
  {
   "cell_type": "code",
   "execution_count": 12,
   "id": "96a67d25",
   "metadata": {},
   "outputs": [],
   "source": [
    "import os\n",
    "os.mkdir(\"C:\\\\python\\\\pandas\\MyPthonProjecyt\")"
   ]
  },
  {
   "cell_type": "markdown",
   "id": "dc040b60",
   "metadata": {},
   "source": [
    "# Changing the Current Working Directory"
   ]
  },
  {
   "cell_type": "code",
   "execution_count": 17,
   "id": "6ad9b476",
   "metadata": {},
   "outputs": [
    {
     "data": {
      "text/plain": [
       "'C:\\\\python'"
      ]
     },
     "execution_count": 17,
     "metadata": {},
     "output_type": "execute_result"
    }
   ],
   "source": [
    "import os\n",
    "os.chdir(\"C:\\python\") # changing current workign directory\n",
    "os.getcwd()"
   ]
  },
  {
   "cell_type": "markdown",
   "id": "31d994a6",
   "metadata": {},
   "source": [
    "# In order to set the current directory to the parent directory use \"..\" as the argument in the chdir() function."
   ]
  },
  {
   "cell_type": "code",
   "execution_count": 21,
   "id": "7c270013",
   "metadata": {},
   "outputs": [
    {
     "data": {
      "text/plain": [
       "'C:\\\\python\\\\pandas'"
      ]
     },
     "execution_count": 21,
     "metadata": {},
     "output_type": "execute_result"
    }
   ],
   "source": [
    "os.chdir(\"C:\\python\\pandas\")\n",
    "os.getcwd()"
   ]
  },
  {
   "cell_type": "code",
   "execution_count": 22,
   "id": "9ed79467",
   "metadata": {},
   "outputs": [
    {
     "data": {
      "text/plain": [
       "'C:\\\\python'"
      ]
     },
     "execution_count": 22,
     "metadata": {},
     "output_type": "execute_result"
    }
   ],
   "source": [
    "os.chdir(\"..\")\n",
    "os.getcwd()"
   ]
  },
  {
   "cell_type": "markdown",
   "id": "c21a3e52",
   "metadata": {},
   "source": [
    "# Removing a Directory\n",
    "For a directory to be removed, it should be empty."
   ]
  },
  {
   "cell_type": "code",
   "execution_count": 27,
   "id": "0d06bf58",
   "metadata": {},
   "outputs": [],
   "source": [
    "import os\n",
    "os.rmdir(\"C:\\python\\pandas\\MyPthonProjecyt\")"
   ]
  },
  {
   "cell_type": "markdown",
   "id": "67e4d550",
   "metadata": {},
   "source": [
    "# List Files and Sub-directories"
   ]
  },
  {
   "cell_type": "code",
   "execution_count": 28,
   "id": "c32b30fa",
   "metadata": {},
   "outputs": [
    {
     "data": {
      "text/plain": [
       "['.ipynb_checkpoints',\n",
       " 'book card PR.ipynb',\n",
       " 'MyPythonProject2',\n",
       " 'OS module.ipynb',\n",
       " 'pokemon_data.csv',\n",
       " 'roxi.ipynb',\n",
       " 'salary.xlsx']"
      ]
     },
     "execution_count": 28,
     "metadata": {},
     "output_type": "execute_result"
    }
   ],
   "source": [
    "import os\n",
    "os.listdir(\"C:\\python\\pandas\")"
   ]
  },
  {
   "cell_type": "code",
   "execution_count": null,
   "id": "4031565d",
   "metadata": {},
   "outputs": [],
   "source": []
  }
 ],
 "metadata": {
  "kernelspec": {
   "display_name": "Python 3",
   "language": "python",
   "name": "python3"
  },
  "language_info": {
   "codemirror_mode": {
    "name": "ipython",
    "version": 3
   },
   "file_extension": ".py",
   "mimetype": "text/x-python",
   "name": "python",
   "nbconvert_exporter": "python",
   "pygments_lexer": "ipython3",
   "version": "3.8.8"
  }
 },
 "nbformat": 4,
 "nbformat_minor": 5
}
